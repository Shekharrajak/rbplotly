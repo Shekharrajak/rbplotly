{
 "cells": [
  {
   "cell_type": "code",
   "execution_count": 1,
   "metadata": {
    "collapsed": false
   },
   "outputs": [
    {
     "data": {
      "text/html": [
       "\n",
       "  <script>\n",
       "  requirejs.config({paths: { 'plotly': ['https://cdn.plot.ly/plotly-latest.min'] }})\n",
       "  </script>\n",
       "\n",
       "\n",
       "<div id=\"b0afc398-5988-4aee-96b1-e2651575c9e5\" style=\"height: 100%; width: 100%;\"></div>\n",
       "\n",
       "<script>\n",
       " require(['plotly'], function(Plotly) { \n",
       "Plotly.newPlot(\n",
       "  'b0afc398-5988-4aee-96b1-e2651575c9e5',\n",
       "  [{\"x\":[\"giraffes\",\"orangutans\",\"monkeys\"],\"y\":[20,14,23],\"type\":\"bar\",\"name\":\"SF Zoo\"},{\"x\":[\"giraffes\",\"orangutans\",\"monkeys\"],\"y\":[12,18,29],\"type\":\"bar\",\"name\":\"LA Zoo\"}],\n",
       "  {\"barmode\":\"stack\"},\n",
       "  {\"linkText\":\"Export to plot.ly\",\"showLink\":true}\n",
       ")\n",
       "\n",
       "window.addEventListener('resize', function() {\n",
       "  Plotly.Plots.resize(document.getElementById('b0afc398-5988-4aee-96b1-e2651575c9e5'))\n",
       "})\n",
       " }) \n",
       "</script>"
      ],
      "text/plain": [
       "#<Plotly::Offline::HTML:0x007fab9c2c3f40 @id=\"b0afc398-5988-4aee-96b1-e2651575c9e5\", @data=[{:x=>[\"giraffes\", \"orangutans\", \"monkeys\"], :y=>[20, 14, 23], :type=>\"bar\", :name=>\"SF Zoo\"}, {:x=>[\"giraffes\", \"orangutans\", \"monkeys\"], :y=>[12, 18, 29], :type=>\"bar\", :name=>\"LA Zoo\"}], @layout={:barmode=>\"stack\"}, @config={:linkText=>\"Export to plot.ly\", :showLink=>true}, @embedded=true>"
      ]
     },
     "metadata": {},
     "output_type": "display_data"
    }
   ],
   "source": [
    "require 'rbplotly'\n",
    "\n",
    "trace1 = {\n",
    "  x:    %w(giraffes orangutans monkeys),\n",
    "  y:    [20, 14, 23],\n",
    "  type: 'bar',\n",
    "  name: 'SF Zoo'\n",
    "}\n",
    "trace2 = {\n",
    "  x:    %w(giraffes orangutans monkeys),\n",
    "  y:    [12, 18, 29],\n",
    "  type: 'bar',\n",
    "  name: 'LA Zoo'\n",
    "}\n",
    "\n",
    "plot = Plotly::Plot.new(data: [trace1, trace2], layout: { barmode: 'stack'} )\n",
    "plot.show"
   ]
  },
  {
   "cell_type": "code",
   "execution_count": null,
   "metadata": {
    "collapsed": true
   },
   "outputs": [],
   "source": []
  }
 ],
 "metadata": {
  "kernelspec": {
   "display_name": "Ruby 2.3.1",
   "language": "ruby",
   "name": "ruby"
  },
  "language_info": {
   "file_extension": ".rb",
   "mimetype": "application/x-ruby",
   "name": "ruby",
   "version": "2.3.1"
  }
 },
 "nbformat": 4,
 "nbformat_minor": 1
}
