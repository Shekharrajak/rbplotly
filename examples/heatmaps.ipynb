{
 "cells": [
  {
   "cell_type": "code",
   "execution_count": 1,
   "metadata": {
    "collapsed": false
   },
   "outputs": [
    {
     "data": {
      "text/html": [
       "\n",
       "  <script>\n",
       "  requirejs.config({paths: { 'plotly': ['https://cdn.plot.ly/plotly-latest.min'] }})\n",
       "  </script>\n",
       "\n",
       "\n",
       "<div id=\"c757ae6c-042e-4bf2-8533-60cc50ac2490\" style=\"height: 100%; width: 100%;\"></div>\n",
       "\n",
       "<script>\n",
       " require(['plotly'], function(Plotly) { \n",
       "Plotly.newPlot(\n",
       "  'c757ae6c-042e-4bf2-8533-60cc50ac2490',\n",
       "  [{\"x\":[\"x1\",\"x2\",\"x3\",\"x4\",\"x5\",\"x6\",\"x7\",\"x8\",\"x9\",\"x10\"],\"y\":[\"y1\",\"y2\",\"y3\",\"y4\",\"y5\",\"y6\",\"y7\",\"y8\",\"y9\",\"y10\"],\"z\":[[9,0,0,7,0,8,0,0,4,0],[7,7,0,9,2,3,1,2,4,8],[5,7,9,0,5,0,4,3,0,0],[3,9,1,5,0,3,1,0,2,7],[8,4,6,4,6,9,3,5,8,4],[3,8,0,2,9,4,6,5,8,5],[5,9,1,5,8,6,5,4,0,5],[3,7,4,2,5,6,1,1,3,7],[2,4,4,4,3,3,5,3,2,9],[3,6,5,0,0,5,1,1,4,0]],\"type\":\"heatmap\"}],\n",
       "  {\"width\":500,\"height\":500},\n",
       "  {\"linkText\":\"Export to plot.ly\",\"showLink\":true}\n",
       ")\n",
       "\n",
       "window.addEventListener('resize', function() {\n",
       "  Plotly.Plots.resize(document.getElementById('c757ae6c-042e-4bf2-8533-60cc50ac2490'))\n",
       "})\n",
       " }) \n",
       "</script>"
      ],
      "text/plain": [
       "#<Plotly::Offline::HTML:0x007fe22b083530 @id=\"c757ae6c-042e-4bf2-8533-60cc50ac2490\", @data=[{:x=>[\"x1\", \"x2\", \"x3\", \"x4\", \"x5\", \"x6\", \"x7\", \"x8\", \"x9\", \"x10\"], :y=>[\"y1\", \"y2\", \"y3\", \"y4\", \"y5\", \"y6\", \"y7\", \"y8\", \"y9\", \"y10\"], :z=>[[9, 0, 0, 7, 0, 8, 0, 0, 4, 0], [7, 7, 0, 9, 2, 3, 1, 2, 4, 8], [5, 7, 9, 0, 5, 0, 4, 3, 0, 0], [3, 9, 1, 5, 0, 3, 1, 0, 2, 7], [8, 4, 6, 4, 6, 9, 3, 5, 8, 4], [3, 8, 0, 2, 9, 4, 6, 5, 8, 5], [5, 9, 1, 5, 8, 6, 5, 4, 0, 5], [3, 7, 4, 2, 5, 6, 1, 1, 3, 7], [2, 4, 4, 4, 3, 3, 5, 3, 2, 9], [3, 6, 5, 0, 0, 5, 1, 1, 4, 0]], :type=>:heatmap}], @layout={:width=>500, :height=>500}, @config={:linkText=>\"Export to plot.ly\", :showLink=>true}, @embedded=true>"
      ]
     },
     "metadata": {},
     "output_type": "display_data"
    }
   ],
   "source": [
    "require 'rbplotly'\n",
    "\n",
    "n = 10\n",
    "data = {\n",
    "  x: (1..n).map { |i| \"x#{i}\" },\n",
    "  y: (1..n).map { |i| \"y#{i}\" },\n",
    "  z: (1..n).map { (1..n).map { rand(10) } },\n",
    "  type: :heatmap\n",
    "}\n",
    "\n",
    "layout = {\n",
    "  width:  500,\n",
    "  height: 500\n",
    "}\n",
    "\n",
    "plot = Plotly::Plot.new(data: [data], layout: layout)\n",
    "plot.show"
   ]
  },
  {
   "cell_type": "code",
   "execution_count": null,
   "metadata": {
    "collapsed": true
   },
   "outputs": [],
   "source": []
  }
 ],
 "metadata": {
  "kernelspec": {
   "display_name": "Ruby 2.3.1",
   "language": "ruby",
   "name": "ruby"
  },
  "language_info": {
   "file_extension": ".rb",
   "mimetype": "application/x-ruby",
   "name": "ruby",
   "version": "2.3.1"
  }
 },
 "nbformat": 4,
 "nbformat_minor": 1
}
