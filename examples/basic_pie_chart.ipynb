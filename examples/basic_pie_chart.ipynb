{
 "cells": [
  {
   "cell_type": "code",
   "execution_count": 1,
   "metadata": {
    "collapsed": false
   },
   "outputs": [
    {
     "data": {
      "text/html": [
       "\n",
       "  <script>\n",
       "  requirejs.config({paths: { 'plotly': ['https://cdn.plot.ly/plotly-latest.min'] }})\n",
       "  </script>\n",
       "\n",
       "\n",
       "<div id=\"adb87990-69aa-40ab-9341-eeb2f8214292\" style=\"height: 100%; width: 100%;\"></div>\n",
       "\n",
       "<script>\n",
       " require(['plotly'], function(Plotly) { \n",
       "Plotly.newPlot(\n",
       "  'adb87990-69aa-40ab-9341-eeb2f8214292',\n",
       "  [{\"labels\":[\"Residential\",\"Non-Residential\",\"Utility\"],\"values\":[19,26,55],\"type\":\"pie\"}],\n",
       "  {\"title\":\"Forcasted 2014 U.S. PV Installations by Market Segment\"},\n",
       "  {\"linkText\":\"Export to plot.ly\",\"showLink\":true}\n",
       ")\n",
       "\n",
       "window.addEventListener('resize', function() {\n",
       "  Plotly.Plots.resize(document.getElementById('adb87990-69aa-40ab-9341-eeb2f8214292'))\n",
       "})\n",
       " }) \n",
       "</script>"
      ],
      "text/plain": [
       "#<Plotly::Offline::HTML:0x007fb65404ed88 @id=\"adb87990-69aa-40ab-9341-eeb2f8214292\", @data=[{:labels=>[\"Residential\", \"Non-Residential\", \"Utility\"], :values=>[19, 26, 55], :type=>\"pie\"}], @layout={:title=>\"Forcasted 2014 U.S. PV Installations by Market Segment\"}, @config={:linkText=>\"Export to plot.ly\", :showLink=>true}, @embedded=true>"
      ]
     },
     "metadata": {},
     "output_type": "display_data"
    }
   ],
   "source": [
    "require 'rbplotly'\n",
    "\n",
    "data = {\n",
    "  labels: %w(Residential Non-Residential Utility),\n",
    "  values: [19, 26, 55],\n",
    "  type: 'pie'\n",
    "}\n",
    "\n",
    "layout = { title: 'Forcasted 2014 U.S. PV Installations by Market Segment' }\n",
    "\n",
    "plot = Plotly::Plot.new(data: [data], layout: layout )\n",
    "plot.show"
   ]
  },
  {
   "cell_type": "code",
   "execution_count": null,
   "metadata": {
    "collapsed": true
   },
   "outputs": [],
   "source": []
  }
 ],
 "metadata": {
  "kernelspec": {
   "display_name": "Ruby 2.3.1",
   "language": "ruby",
   "name": "ruby"
  },
  "language_info": {
   "file_extension": ".rb",
   "mimetype": "application/x-ruby",
   "name": "ruby",
   "version": "2.3.1"
  }
 },
 "nbformat": 4,
 "nbformat_minor": 1
}
